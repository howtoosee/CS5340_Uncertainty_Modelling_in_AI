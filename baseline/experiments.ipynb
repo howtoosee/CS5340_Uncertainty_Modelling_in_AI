{
 "cells": [
  {
   "cell_type": "code",
   "execution_count": null,
   "id": "initial_id",
   "metadata": {
    "collapsed": true
   },
   "outputs": [],
   "source": [
    "import torch\n",
    "from torch.utils import data\n",
    "import lightning as L\n",
    "from lightning import Fabric\n",
    "from lightning.pytorch import loggers as pl_loggers\n",
    "from einops import rearrange"
   ]
  },
  {
   "cell_type": "code",
   "execution_count": null,
   "id": "77449f45",
   "metadata": {},
   "outputs": [],
   "source": [
    "for i in range(torch.cuda.device_count()):\n",
    "    print(i, torch.cuda.get_device_name(i))"
   ]
  },
  {
   "cell_type": "code",
   "execution_count": null,
   "id": "d9dbb7c1ec2f1fc3",
   "metadata": {
    "collapsed": false
   },
   "outputs": [],
   "source": [
    "%load_ext autoreload\n",
    "%autoreload 2\n",
    "import data_module\n",
    "from model import ImageClassification, OodClassification, MyModel"
   ]
  },
  {
   "cell_type": "code",
   "execution_count": null,
   "id": "8ded4b7d",
   "metadata": {},
   "outputs": [],
   "source": [
    "# # Load dataset\n",
    "train_dict = data_module.get_cifar10_far(is_train=True)\n",
    "test_dict = data_module.get_cifar10_far(is_train=False)\n",
    "\n",
    "train_data = train_dict[\"dataset\"]\n",
    "test_data = test_dict[\"dataset\"]\n",
    "num_classes = train_dict[\"num_classes_id\"]\n",
    "\n",
    "train_loader = data.DataLoader(train_data, batch_size=32, shuffle=True, num_workers=2)   # TODO change to train_data\n",
    "test_loader = data.DataLoader(test_data, batch_size=32, shuffle=True, num_workers=2)"
   ]
  },
  {
   "cell_type": "code",
   "execution_count": null,
   "id": "2e039343",
   "metadata": {},
   "outputs": [],
   "source": [
    "len(train_data), len(test_data), len(train_loader), len(test_loader)"
   ]
  },
  {
   "cell_type": "code",
   "execution_count": null,
   "id": "c58d91f9b5526974",
   "metadata": {
    "collapsed": false
   },
   "outputs": [],
   "source": [
    "# Create model\n",
    "image_model = ImageClassification(num_classes=num_classes)\n",
    "ood_model = OodClassification()\n",
    "model = MyModel(image_model, ood_model)"
   ]
  },
  {
   "cell_type": "code",
   "execution_count": null,
   "id": "a2bdc6c297044be8",
   "metadata": {
    "collapsed": false
   },
   "outputs": [],
   "source": [
    "# Train model\n",
    "trainer = L.Trainer(max_epochs=100, logger=True, devices=[2])\n",
    "trainer.fit(model, train_loader, test_loader)"
   ]
  },
  {
   "cell_type": "code",
   "execution_count": null,
   "id": "67648544",
   "metadata": {},
   "outputs": [],
   "source": [
    "y_hat = torch.rand((16, 2))\n",
    "y = torch.randint(0, 2, (16,))\n",
    "print(y_hat.dtype)\n",
    "print(y.dtype)\n",
    "ood_model.criterion(y_hat, y)"
   ]
  },
  {
   "cell_type": "code",
   "execution_count": null,
   "id": "cecc7493",
   "metadata": {},
   "outputs": [],
   "source": []
  }
 ],
 "metadata": {
  "kernelspec": {
   "display_name": "Python 3",
   "language": "python",
   "name": "python3"
  },
  "language_info": {
   "codemirror_mode": {
    "name": "ipython",
    "version": 3
   },
   "file_extension": ".py",
   "mimetype": "text/x-python",
   "name": "python",
   "nbconvert_exporter": "python",
   "pygments_lexer": "ipython3",
   "version": "3.1.undefined"
  }
 },
 "nbformat": 4,
 "nbformat_minor": 5
}
