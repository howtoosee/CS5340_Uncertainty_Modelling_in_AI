{
 "cells": [
  {
   "cell_type": "code",
   "execution_count": null,
   "id": "initial_id",
   "metadata": {
    "collapsed": true
   },
   "outputs": [],
   "source": [
    "import torch\n",
    "from torch.utils import data\n",
    "import lightning as L\n",
    "from lightning.pytorch import loggers as pl_loggers"
   ]
  },
  {
   "cell_type": "code",
   "execution_count": null,
   "id": "d9dbb7c1ec2f1fc3",
   "metadata": {
    "collapsed": false
   },
   "outputs": [],
   "source": [
    "%load_ext autoreload\n",
    "%autoreload 2\n",
    "import main\n",
    "from model import ImageClassification, OodClassification, MyModel"
   ]
  },
  {
   "cell_type": "code",
   "execution_count": null,
   "id": "972a4bcd",
   "metadata": {},
   "outputs": [],
   "source": [
    "config_name = \"mnist_near\"\n",
    "device = \"auto\""
   ]
  },
  {
   "cell_type": "code",
   "execution_count": null,
   "id": "7e0e2f70",
   "metadata": {},
   "outputs": [],
   "source": [
    "## Load data\n",
    "train_dict, test_dict = main.run_configs[config_name]()\n",
    "\n",
    "train_data = train_dict[\"dataset\"]\n",
    "test_data = test_dict[\"dataset\"]\n",
    "num_classes = train_dict[\"num_classes_id\"]\n",
    "\n",
    "train_loader = data.DataLoader(test_data, batch_size=16, shuffle=True, num_workers=4)  # TODO change to train_data\n",
    "test_loader = data.DataLoader(test_data, batch_size=16, shuffle=False, num_workers=4)"
   ]
  },
  {
   "cell_type": "code",
   "execution_count": null,
   "id": "cecc7493",
   "metadata": {},
   "outputs": [],
   "source": [
    "# Create model\n",
    "image_model = ImageClassification(num_classes=num_classes)\n",
    "ood_model = OodClassification()\n",
    "model = MyModel(image_model, ood_model, cutoff_epoch=10)"
   ]
  },
  {
   "cell_type": "code",
   "execution_count": null,
   "id": "5e48a724",
   "metadata": {},
   "outputs": [],
   "source": [
    "# Train model\n",
    "tb_logger = pl_loggers.TensorBoardLogger(save_dir='lightning_logs/', name=config_name)\n",
    "trainer = L.Trainer(max_epochs=100, logger=tb_logger, devices=device)\n",
    "trainer.fit(model, train_loader, test_loader)"
   ]
  },
  {
   "cell_type": "code",
   "execution_count": null,
   "id": "dbf2b28a",
   "metadata": {},
   "outputs": [],
   "source": []
  }
 ],
 "metadata": {
  "kernelspec": {
   "display_name": "Python 3",
   "language": "python",
   "name": "python3"
  },
  "language_info": {
   "codemirror_mode": {
    "name": "ipython",
    "version": 3
   },
   "file_extension": ".py",
   "mimetype": "text/x-python",
   "name": "python",
   "nbconvert_exporter": "python",
   "pygments_lexer": "ipython3",
   "version": "3.11.8"
  }
 },
 "nbformat": 4,
 "nbformat_minor": 5
}
