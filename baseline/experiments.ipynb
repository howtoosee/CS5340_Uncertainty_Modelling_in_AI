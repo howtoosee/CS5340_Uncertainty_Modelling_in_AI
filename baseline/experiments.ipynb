{
 "cells": [
  {
   "cell_type": "code",
   "execution_count": 1,
   "id": "initial_id",
   "metadata": {
    "collapsed": true
   },
   "outputs": [],
   "source": [
    "import torch\n",
    "from torch.utils import data\n",
    "import lightning as L\n",
    "from lightning import Fabric\n",
    "from lightning.pytorch import loggers as pl_loggers"
   ]
  },
  {
   "cell_type": "code",
   "execution_count": 2,
   "id": "d9dbb7c1ec2f1fc3",
   "metadata": {
    "collapsed": false
   },
   "outputs": [],
   "source": [
    "%load_ext autoreload\n",
    "%autoreload 2\n",
    "import data_module\n",
    "from model import ImageClassification, OodClassification, MyModel"
   ]
  },
  {
   "cell_type": "code",
   "execution_count": 3,
   "id": "4c0007e1ec0a8f50",
   "metadata": {
    "collapsed": false
   },
   "outputs": [
    {
     "name": "stdout",
     "output_type": "stream",
     "text": [
      "120000\n"
     ]
    }
   ],
   "source": [
    "# Load dataset\n",
    "dataset = data_module.MnistOodRandomDataset()\n",
    "n = len(dataset)\n",
    "train_size = int(0.8 * n)\n",
    "train_set, test_set = data.random_split(dataset, [train_size, n - train_size])\n",
    "train_loader = data.DataLoader(test_set, batch_size=64, shuffle=True, num_workers=4)    # TODO: change to train_set\n",
    "test_loader = data.DataLoader(test_set, batch_size=64, shuffle=False, num_workers=4)\n",
    "print(n)"
   ]
  },
  {
   "cell_type": "code",
   "execution_count": 4,
   "id": "c58d91f9b5526974",
   "metadata": {
    "collapsed": false
   },
   "outputs": [],
   "source": [
    "# Create model\n",
    "image_model = ImageClassification(num_classes=10)\n",
    "ood_model = OodClassification()\n",
    "model = MyModel(image_model, ood_model)"
   ]
  },
  {
   "cell_type": "code",
   "execution_count": 5,
   "id": "a2bdc6c297044be8",
   "metadata": {
    "collapsed": false
   },
   "outputs": [
    {
     "name": "stderr",
     "output_type": "stream",
     "text": [
      "GPU available: True (cuda), used: True\n",
      "TPU available: False, using: 0 TPU cores\n",
      "IPU available: False, using: 0 IPUs\n",
      "HPU available: False, using: 0 HPUs\n",
      "/home/wayne/anaconda3/envs/cs5340/lib/python3.11/site-packages/lightning/pytorch/trainer/connectors/logger_connector/logger_connector.py:75: Starting from v1.9.0, `tensorboardX` has been removed as a dependency of the `lightning.pytorch` package, due to potential conflicts with other packages in the ML ecosystem. For this reason, `logger=True` will use `CSVLogger` as the default logger, unless the `tensorboard` or `tensorboardX` packages are found. Please `pip install lightning[extra]` or one of them to enable TensorBoard support by default\n",
      "You are using a CUDA device ('NVIDIA GeForce RTX 3060 Laptop GPU') that has Tensor Cores. To properly utilize them, you should set `torch.set_float32_matmul_precision('medium' | 'high')` which will trade-off precision for performance. For more details, read https://pytorch.org/docs/stable/generated/torch.set_float32_matmul_precision.html#torch.set_float32_matmul_precision\n",
      "LOCAL_RANK: 0 - CUDA_VISIBLE_DEVICES: [0]\n",
      "\n",
      "  | Name             | Type                | Params\n",
      "---------------------------------------------------------\n",
      "0 | image_classifier | ImageClassification | 501 K \n",
      "1 | ood_classifier   | OodClassification   | 754   \n",
      "2 | loss_fn          | CrossEntropyLoss    | 0     \n",
      "---------------------------------------------------------\n",
      "502 K     Trainable params\n",
      "0         Non-trainable params\n",
      "502 K     Total params\n",
      "2.010     Total estimated model params size (MB)\n"
     ]
    },
    {
     "data": {
      "application/vnd.jupyter.widget-view+json": {
       "model_id": "62fa3125e0fc40069d41972ea4e032e3",
       "version_major": 2,
       "version_minor": 0
      },
      "text/plain": [
       "Sanity Checking: |          | 0/? [00:00<?, ?it/s]"
      ]
     },
     "metadata": {},
     "output_type": "display_data"
    },
    {
     "name": "stderr",
     "output_type": "stream",
     "text": [
      "/home/wayne/anaconda3/envs/cs5340/lib/python3.11/site-packages/lightning/pytorch/trainer/connectors/data_connector.py:492: Your `val_dataloader`'s sampler has shuffling enabled, it is strongly recommended that you turn shuffling off for val/test dataloaders.\n"
     ]
    },
    {
     "name": "stdout",
     "output_type": "stream",
     "text": [
      "{'acc': tensor(0.0400, device='cuda:0'), 'f1': tensor(0.0308, device='cuda:0')}\n",
      "{'acc': tensor(0.5000, device='cuda:0'), 'f1': tensor(0., device='cuda:0')}\n"
     ]
    },
    {
     "data": {
      "application/vnd.jupyter.widget-view+json": {
       "model_id": "89c075402e9144c28509b518b52b54d4",
       "version_major": 2,
       "version_minor": 0
      },
      "text/plain": [
       "Training: |          | 0/? [00:00<?, ?it/s]"
      ]
     },
     "metadata": {},
     "output_type": "display_data"
    },
    {
     "data": {
      "application/vnd.jupyter.widget-view+json": {
       "model_id": "5650b9e883b64d87aa0e694653f28956",
       "version_major": 2,
       "version_minor": 0
      },
      "text/plain": [
       "Validation: |          | 0/? [00:00<?, ?it/s]"
      ]
     },
     "metadata": {},
     "output_type": "display_data"
    },
    {
     "name": "stdout",
     "output_type": "stream",
     "text": [
      "{'acc': tensor(0.9712, device='cuda:0'), 'f1': tensor(0.9714, device='cuda:0')}\n",
      "{'acc': tensor(0.9973, device='cuda:0'), 'f1': tensor(0.9973, device='cuda:0')}\n"
     ]
    },
    {
     "data": {
      "application/vnd.jupyter.widget-view+json": {
       "model_id": "28179791172c46e794e03994182915ca",
       "version_major": 2,
       "version_minor": 0
      },
      "text/plain": [
       "Validation: |          | 0/? [00:00<?, ?it/s]"
      ]
     },
     "metadata": {},
     "output_type": "display_data"
    },
    {
     "name": "stdout",
     "output_type": "stream",
     "text": [
      "{'acc': tensor(0.9798, device='cuda:0'), 'f1': tensor(0.9799, device='cuda:0')}\n",
      "{'acc': tensor(0.9986, device='cuda:0'), 'f1': tensor(0.9986, device='cuda:0')}\n"
     ]
    },
    {
     "name": "stderr",
     "output_type": "stream",
     "text": [
      "/home/wayne/anaconda3/envs/cs5340/lib/python3.11/site-packages/lightning/pytorch/trainer/call.py:54: Detected KeyboardInterrupt, attempting graceful shutdown...\n"
     ]
    }
   ],
   "source": [
    "# Train model\n",
    "# tb_logger = pl_loggers.TensorBoardLogger('/')\n",
    "# csv_logger = pl_loggers.CSVLogger('/')\n",
    "trainer = L.Trainer(max_epochs=30)\n",
    "trainer.fit(model, train_loader, train_loader)"
   ]
  },
  {
   "cell_type": "code",
   "execution_count": null,
   "id": "5319f10fe12d27ea",
   "metadata": {
    "collapsed": false
   },
   "outputs": [],
   "source": []
  }
 ],
 "metadata": {
  "kernelspec": {
   "display_name": "Python 3",
   "language": "python",
   "name": "python3"
  },
  "language_info": {
   "codemirror_mode": {
    "name": "ipython",
    "version": 3
   },
   "file_extension": ".py",
   "mimetype": "text/x-python",
   "name": "python",
   "nbconvert_exporter": "python",
   "pygments_lexer": "ipython3",
   "version": "3.11.8"
  }
 },
 "nbformat": 4,
 "nbformat_minor": 5
}
