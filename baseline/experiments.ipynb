{
 "cells": [
  {
   "cell_type": "code",
   "execution_count": null,
   "id": "initial_id",
   "metadata": {
    "collapsed": true
   },
   "outputs": [],
   "source": [
    "import torch\n",
    "from torch.utils import data\n",
    "import lightning as L\n",
    "from lightning import Fabric\n",
    "from lightning.pytorch import loggers as pl_loggers"
   ]
  },
  {
   "cell_type": "code",
   "outputs": [],
   "source": [
    "%load_ext autoreload\n",
    "%autoreload 2\n",
    "import data_module\n",
    "from model import ImageClassification, OodClassification, MyModel"
   ],
   "metadata": {
    "collapsed": false
   },
   "id": "d9dbb7c1ec2f1fc3",
   "execution_count": null
  },
  {
   "cell_type": "code",
   "outputs": [],
   "source": [
    "# Load dataset\n",
    "dataset = data_module.MnistOodRandomDataset()\n",
    "n = len(dataset)\n",
    "train_size = int(0.8 * n)\n",
    "train_set, test_set = data.random_split(dataset, [train_size, n - train_size])\n",
    "train_loader = data.DataLoader(test_set, batch_size=64, shuffle=True, num_workers=4)    # TODO: change to train_set\n",
    "test_loader = data.DataLoader(test_set, batch_size=64, shuffle=True, num_workers=4)"
   ],
   "metadata": {
    "collapsed": false
   },
   "id": "4c0007e1ec0a8f50",
   "execution_count": null
  },
  {
   "cell_type": "code",
   "outputs": [],
   "source": [
    "# Create model\n",
    "image_model = ImageClassification(num_classes=10)\n",
    "ood_model = OodClassification()\n",
    "model = MyModel(image_model, ood_model)"
   ],
   "metadata": {
    "collapsed": false
   },
   "id": "c58d91f9b5526974",
   "execution_count": null
  },
  {
   "cell_type": "code",
   "outputs": [],
   "source": [
    "# Train model\n",
    "# tb_logger = pl_loggers.TensorBoardLogger('/')\n",
    "# csv_logger = pl_loggers.CSVLogger('/')\n",
    "trainer = L.Trainer(max_epochs=1)\n",
    "trainer.fit(model, train_loader, train_loader)"
   ],
   "metadata": {
    "collapsed": false
   },
   "id": "a2bdc6c297044be8",
   "execution_count": null
  },
  {
   "cell_type": "code",
   "outputs": [],
   "source": [],
   "metadata": {
    "collapsed": false
   },
   "id": "5319f10fe12d27ea",
   "execution_count": null
  }
 ],
 "metadata": {
  "kernelspec": {
   "display_name": "Python 3",
   "language": "python",
   "name": "python3"
  },
  "language_info": {
   "codemirror_mode": {
    "name": "ipython",
    "version": 2
   },
   "file_extension": ".py",
   "mimetype": "text/x-python",
   "name": "python",
   "nbconvert_exporter": "python",
   "pygments_lexer": "ipython2",
   "version": "2.7.6"
  }
 },
 "nbformat": 4,
 "nbformat_minor": 5
}
