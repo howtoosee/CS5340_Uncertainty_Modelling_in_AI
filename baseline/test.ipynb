{
 "cells": [
  {
   "cell_type": "code",
   "execution_count": null,
   "id": "initial_id",
   "metadata": {
    "collapsed": true
   },
   "outputs": [],
   "source": [
    "import torch\n",
    "import torchmetrics.classification as C\n",
    "from torchvision.datasets import mnist"
   ]
  },
  {
   "cell_type": "code",
   "outputs": [],
   "source": [
    "preds = torch.rand(15, 1).view(3, 5)\n",
    "preds = preds / preds.sum(dim=1).reshape(-1, 1)\n",
    "preds, preds.sum(dim=1)"
   ],
   "metadata": {
    "collapsed": false
   },
   "id": "599f9d59069934ae",
   "execution_count": null
  },
  {
   "cell_type": "code",
   "outputs": [],
   "source": [
    "target = torch.tensor([0, 2, 4])\n",
    "target"
   ],
   "metadata": {
    "collapsed": false
   },
   "id": "14bd4d81e0c06b98",
   "execution_count": null
  },
  {
   "cell_type": "code",
   "outputs": [],
   "source": [
    "metric = C.MulticlassAccuracy(5)\n",
    "metric(preds, target)"
   ],
   "metadata": {
    "collapsed": false
   },
   "id": "d4a4bf51ae12cc93",
   "execution_count": null
  },
  {
   "cell_type": "code",
   "outputs": [],
   "source": [
    "def get_train_dataset():\n",
    "    mnist_train = mnist.MNIST('data', train=True, download=True)\n",
    "    mnist_images = mnist_train.data\n",
    "    mnist_image_labels = mnist_train.targets\n",
    "    mnist_ood_labels = torch.zeros(len(mnist_image_labels), dtype=torch.long)\n",
    "\n",
    "    ood_images = torch.rand(100, 28, 28)\n",
    "    ood_image_labels = torch.zeros(100, dtype=torch.long) - 1\n",
    "    fake_ood_labels = torch.ones(100, dtype=torch.long)\n",
    "    \n",
    "    images = torch.cat([mnist_images, ood_images], dim=0)\n",
    "    class_labels = torch.cat([mnist_image_labels, ood_image_labels], dim=0)\n",
    "    ood_labels = torch.cat([mnist_ood_labels, fake_ood_labels], dim=0)\n",
    "    \n",
    "    return images, class_labels, ood_labels"
   ],
   "metadata": {
    "collapsed": false
   },
   "id": "6b6d7102cb28f022",
   "execution_count": null
  },
  {
   "cell_type": "code",
   "outputs": [],
   "source": [
    "images, class_labels, ood_labels = get_train_dataset()"
   ],
   "metadata": {
    "collapsed": false
   },
   "id": "49e0f4954f5d1e2f",
   "execution_count": null
  },
  {
   "cell_type": "code",
   "outputs": [],
   "source": [
    "length = images.size()[0]\n",
    "metric = C.BinaryF1Score()"
   ],
   "metadata": {
    "collapsed": false
   },
   "id": "122cbde5d5d618aa",
   "execution_count": null
  },
  {
   "cell_type": "code",
   "outputs": [],
   "source": [
    "preds = torch.rand(length, 2)\n",
    "preds = preds.argmax(dim=1)\n",
    "metric(preds, ood_labels)"
   ],
   "metadata": {
    "collapsed": false
   },
   "id": "d8fd542b792c161a",
   "execution_count": null
  },
  {
   "cell_type": "code",
   "outputs": [],
   "source": [],
   "metadata": {
    "collapsed": false
   },
   "id": "ce5e155a4a419147"
  }
 ],
 "metadata": {
  "kernelspec": {
   "display_name": "Python 3",
   "language": "python",
   "name": "python3"
  },
  "language_info": {
   "codemirror_mode": {
    "name": "ipython",
    "version": 2
   },
   "file_extension": ".py",
   "mimetype": "text/x-python",
   "name": "python",
   "nbconvert_exporter": "python",
   "pygments_lexer": "ipython2",
   "version": "2.7.6"
  }
 },
 "nbformat": 4,
 "nbformat_minor": 5
}
