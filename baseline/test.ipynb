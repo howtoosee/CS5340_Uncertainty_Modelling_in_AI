{
 "cells": [
  {
   "cell_type": "code",
   "execution_count": null,
   "id": "initial_id",
   "metadata": {
    "collapsed": true
   },
   "outputs": [],
   "source": [
    "import torch\n",
    "from torch.nn import functional as F\n",
    "import torchmetrics.classification as C\n",
    "from torchvision.datasets import mnist"
   ]
  },
  {
   "cell_type": "code",
   "execution_count": null,
   "id": "0b0cfe92",
   "metadata": {},
   "outputs": [],
   "source": [
    "logits = torch.rand((4,2))\n",
    "gt = torch.tensor([0, 1, 1, 1])\n",
    "probs = F.softmax(logits, dim=1)\n",
    "probs, probs[:,0]"
   ]
  },
  {
   "cell_type": "code",
   "execution_count": null,
   "id": "7047f60c",
   "metadata": {},
   "outputs": [],
   "source": [
    "criterion = C.BinaryF1Score()\n",
    "criterion(probs[:,1], gt), criterion(probs.argmax(dim=1), gt)"
   ]
  },
  {
   "cell_type": "code",
   "execution_count": null,
   "id": "ed5cd017",
   "metadata": {},
   "outputs": [],
   "source": [
    "criterion = C.BinaryAccuracy()\n",
    "criterion(probs[:,1], gt), criterion(probs.argmax(dim=1), gt)"
   ]
  },
  {
   "cell_type": "code",
   "execution_count": null,
   "id": "599f9d59069934ae",
   "metadata": {
    "collapsed": false
   },
   "outputs": [],
   "source": [
    "preds = torch.rand(15, 1).view(3, 5)\n",
    "preds = preds / preds.sum(dim=1).reshape(-1, 1)\n",
    "preds, preds.sum(dim=1)"
   ]
  },
  {
   "cell_type": "code",
   "execution_count": null,
   "id": "14bd4d81e0c06b98",
   "metadata": {
    "collapsed": false
   },
   "outputs": [],
   "source": [
    "target = torch.tensor([0, 2, 4])\n",
    "target"
   ]
  },
  {
   "cell_type": "code",
   "execution_count": null,
   "id": "d4a4bf51ae12cc93",
   "metadata": {
    "collapsed": false
   },
   "outputs": [],
   "source": [
    "metric = C.MulticlassAccuracy(5)\n",
    "metric(preds, target)"
   ]
  },
  {
   "cell_type": "code",
   "execution_count": null,
   "id": "6b6d7102cb28f022",
   "metadata": {
    "collapsed": false
   },
   "outputs": [],
   "source": [
    "def get_train_dataset():\n",
    "    mnist_train = mnist.MNIST('data', train=True, download=True)\n",
    "    mnist_images = mnist_train.data\n",
    "    mnist_image_labels = mnist_train.targets\n",
    "    mnist_ood_labels = torch.zeros(len(mnist_image_labels), dtype=torch.long)\n",
    "\n",
    "    ood_images = torch.rand(100, 28, 28)\n",
    "    ood_image_labels = torch.zeros(100, dtype=torch.long) - 1\n",
    "    fake_ood_labels = torch.ones(100, dtype=torch.long)\n",
    "    \n",
    "    images = torch.cat([mnist_images, ood_images], dim=0)\n",
    "    class_labels = torch.cat([mnist_image_labels, ood_image_labels], dim=0)\n",
    "    ood_labels = torch.cat([mnist_ood_labels, fake_ood_labels], dim=0)\n",
    "    \n",
    "    return images, class_labels, ood_labels"
   ]
  },
  {
   "cell_type": "code",
   "execution_count": null,
   "id": "49e0f4954f5d1e2f",
   "metadata": {
    "collapsed": false
   },
   "outputs": [],
   "source": [
    "images, class_labels, ood_labels = get_train_dataset()"
   ]
  },
  {
   "cell_type": "code",
   "execution_count": null,
   "id": "122cbde5d5d618aa",
   "metadata": {
    "collapsed": false
   },
   "outputs": [],
   "source": [
    "length = images.size()[0]\n",
    "metric = C.BinaryF1Score()"
   ]
  },
  {
   "cell_type": "code",
   "execution_count": null,
   "id": "d8fd542b792c161a",
   "metadata": {
    "collapsed": false
   },
   "outputs": [],
   "source": [
    "preds = torch.rand(length, 2)\n",
    "preds = preds.argmax(dim=1)\n",
    "metric(preds, ood_labels)"
   ]
  },
  {
   "cell_type": "code",
   "execution_count": null,
   "id": "ce5e155a4a419147",
   "metadata": {
    "collapsed": false
   },
   "outputs": [],
   "source": []
  }
 ],
 "metadata": {
  "kernelspec": {
   "display_name": "Python 3",
   "language": "python",
   "name": "python3"
  },
  "language_info": {
   "codemirror_mode": {
    "name": "ipython",
    "version": 3
   },
   "file_extension": ".py",
   "mimetype": "text/x-python",
   "name": "python",
   "nbconvert_exporter": "python",
   "pygments_lexer": "ipython3",
   "version": "3.11.8"
  }
 },
 "nbformat": 4,
 "nbformat_minor": 5
}
