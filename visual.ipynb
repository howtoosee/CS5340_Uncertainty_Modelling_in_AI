{
 "cells": [
  {
   "cell_type": "code",
   "execution_count": null,
   "metadata": {},
   "outputs": [],
   "source": [
    "import numpy as np\n",
    "from matplotlib import pyplot as plt"
   ]
  },
  {
   "cell_type": "code",
   "execution_count": null,
   "metadata": {},
   "outputs": [],
   "source": [
    "ap = dict(\n",
    "    mnist_near= [],\n",
    "    mnist_far=[],\n",
    "    cifar_near=[],\n",
    "    cifar_far=[],\n",
    ")\n",
    "auroc = dict(\n",
    "    mnist_near= [],\n",
    "    mnist_far=[],\n",
    "    cifar_near=[],\n",
    "    cifar_far=[],\n",
    ")\n",
    "kl_div = dict(\n",
    "    mnist_near= [],\n",
    "    mnist_far=[],\n",
    "    cifar_near=[],\n",
    "    cifar_far=[],\n",
    ")"
   ]
  }
 ],
 "metadata": {
  "kernelspec": {
   "display_name": "uncertain",
   "language": "python",
   "name": "python3"
  },
  "language_info": {
   "name": "python",
   "version": "3.11.8"
  }
 },
 "nbformat": 4,
 "nbformat_minor": 2
}
