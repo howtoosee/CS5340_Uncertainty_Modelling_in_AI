{
 "cells": [
  {
   "cell_type": "markdown",
   "metadata": {},
   "source": [
    "## General flow of work"
   ]
  },
  {
   "cell_type": "code",
   "execution_count": 1,
   "metadata": {},
   "outputs": [],
   "source": [
    "### setting dir as root, sys path append\n",
    "import sys\n",
    "import os\n",
    "sys.path.append('/Users/xy/Library/CloudStorage/OneDrive-NationalUniversityofSingapore/Implementations/CS5340_Uncertainty_Modelling_in_AI')"
   ]
  },
  {
   "cell_type": "markdown",
   "metadata": {},
   "source": [
    "### Import configs\n",
    "\n",
    "Be sure to import ood config and the benchmark dataset config. \n",
    "Taking MNIST as example: mnist.yml and mnist_ood.yml"
   ]
  },
  {
   "cell_type": "code",
   "execution_count": 2,
   "metadata": {},
   "outputs": [],
   "source": [
    "# read in config (used to pass as config file compiled in command line)\n",
    "import yaml\n",
    "from openood.utils import Config\n",
    "from openood.utils.config import merge_configs\n",
    "\n",
    "# load in ood config and base dataset config\n",
    "with open(\"/Users/xy/Library/CloudStorage/OneDrive-NationalUniversityofSingapore/Implementations/CS5340_Uncertainty_Modelling_in_AI/configs/datasets/mnist/mnist_ood.yml\", \"r\") as yaml_file:\n",
    "    mnist_ood_config = Config(yaml.safe_load(yaml_file))\n",
    "\n",
    "with open(\"/Users/xy/Library/CloudStorage/OneDrive-NationalUniversityofSingapore/Implementations/CS5340_Uncertainty_Modelling_in_AI/configs/datasets/mnist/mnist.yml\", \"r\") as yaml_file:\n",
    "    mnist_config = Config(yaml.safe_load(yaml_file))\n",
    "\n",
    "## passing thru custom config function to merge and output config\n",
    "    mnist_config_merged = merge_configs(mnist_config, mnist_ood_config)\n",
    "    "
   ]
  },
  {
   "cell_type": "code",
   "execution_count": 3,
   "metadata": {},
   "outputs": [
    {
     "data": {
      "text/plain": [
       "<bound method Config.all_keys of dataset:\n",
       "    image_size: 28\n",
       "    interpolation: bilinear\n",
       "    name: mnist\n",
       "    normalization_type: mnist\n",
       "    num_classes: 10\n",
       "    num_gpus: @{num_gpus}\n",
       "    num_machines: @{num_machines}\n",
       "    num_workers: @{num_workers}\n",
       "    pre_size: 28\n",
       "    split_names: ['train', 'val', 'test']\n",
       "    test:\n",
       "        batch_size: 200\n",
       "        data_dir: ./data/images_classic/\n",
       "        dataset_class: ImglistDataset\n",
       "        imglist_pth: ./data/benchmark_imglist/mnist/test_mnist.txt\n",
       "        shuffle: False\n",
       "    train:\n",
       "        batch_size: 128\n",
       "        data_dir: ./data/images_classic/\n",
       "        dataset_class: ImglistDataset\n",
       "        imglist_pth: ./data/benchmark_imglist/mnist/train_mnist.txt\n",
       "        shuffle: True\n",
       "    val:\n",
       "        batch_size: 200\n",
       "        data_dir: ./data/images_classic/\n",
       "        dataset_class: ImglistDataset\n",
       "        imglist_pth: ./data/benchmark_imglist/mnist/val_mnist.txt\n",
       "        shuffle: False\n",
       "ood_dataset:\n",
       "    batch_size: 128\n",
       "    dataset_class: ImglistDataset\n",
       "    farood:\n",
       "        cifar10:\n",
       "            data_dir: ./data/images_classic/\n",
       "            imglist_pth: ./data/benchmark_imglist/mnist/test_cifar10.txt\n",
       "        datasets: ['texture', 'cifar10', 'tin', 'places365']\n",
       "        places365:\n",
       "            data_dir: ./data/images_classic/\n",
       "            imglist_pth: ./data/benchmark_imglist/mnist/test_places365.txt\n",
       "        texture:\n",
       "            data_dir: ./data/images_classic/\n",
       "            imglist_pth: ./data/benchmark_imglist/mnist/test_texture.txt\n",
       "        tin:\n",
       "            data_dir: ./data/images_classic/\n",
       "            imglist_pth: ./data/benchmark_imglist/mnist/test_tin.txt\n",
       "    name: mnist_ood\n",
       "    nearood:\n",
       "        datasets: ['notmnist', 'fashionmnist']\n",
       "        fashionmnist:\n",
       "            data_dir: ./data/images_classic/\n",
       "            imglist_pth: ./data/benchmark_imglist/mnist/test_fashionmnist.txt\n",
       "        notmnist:\n",
       "            data_dir: ./data/images_classic/\n",
       "            imglist_pth: ./data/benchmark_imglist/mnist/test_notmnist.txt\n",
       "    num_classes: 10\n",
       "    num_gpus: @{num_gpus}\n",
       "    num_machines: @{num_machines}\n",
       "    num_workers: @{num_workers}\n",
       "    shuffle: False\n",
       "    split_names: ['val', 'nearood', 'farood']\n",
       "    val:\n",
       "        data_dir: ./data/images_classic/\n",
       "        imglist_pth: ./data/benchmark_imglist/mnist/val_notmnist.txt>"
      ]
     },
     "execution_count": 3,
     "metadata": {},
     "output_type": "execute_result"
    }
   ],
   "source": [
    "mnist_config_merged.all_keys"
   ]
  },
  {
   "cell_type": "code",
   "execution_count": 6,
   "metadata": {},
   "outputs": [
    {
     "data": {
      "text/plain": [
       "{'val': <torch.utils.data.dataloader.DataLoader at 0x29307e240>,\n",
       " 'nearood': {'notmnist': <torch.utils.data.dataloader.DataLoader at 0x281237ec0>,\n",
       "  'fashionmnist': <torch.utils.data.dataloader.DataLoader at 0x293478b90>},\n",
       " 'farood': {'texture': <torch.utils.data.dataloader.DataLoader at 0x2934cd190>,\n",
       "  'cifar10': <torch.utils.data.dataloader.DataLoader at 0x2934cffe0>,\n",
       "  'tin': <torch.utils.data.dataloader.DataLoader at 0x295b69010>,\n",
       "  'places365': <torch.utils.data.dataloader.DataLoader at 0x295b690d0>}}"
      ]
     },
     "execution_count": 6,
     "metadata": {},
     "output_type": "execute_result"
    }
   ],
   "source": [
    "## setting up data directory\n",
    "\n",
    "from openood.datasets.utils import get_ood_dataloader\n",
    "\n",
    "DATA_PATH = '/Users/xy/Downloads/data' # replace with ur data dir path here\n",
    "\n",
    "dataloader_dict = get_ood_dataloader(mnist_config_merged, DATA_PATH)\n",
    "dataloader_dict"
   ]
  },
  {
   "cell_type": "code",
   "execution_count": null,
   "metadata": {},
   "outputs": [],
   "source": []
  },
  {
   "cell_type": "code",
   "execution_count": null,
   "metadata": {},
   "outputs": [],
   "source": []
  }
 ],
 "metadata": {
  "kernelspec": {
   "display_name": "base",
   "language": "python",
   "name": "python3"
  },
  "language_info": {
   "codemirror_mode": {
    "name": "ipython",
    "version": 3
   },
   "file_extension": ".py",
   "mimetype": "text/x-python",
   "name": "python",
   "nbconvert_exporter": "python",
   "pygments_lexer": "ipython3",
   "version": "3.12.2"
  }
 },
 "nbformat": 4,
 "nbformat_minor": 2
}
